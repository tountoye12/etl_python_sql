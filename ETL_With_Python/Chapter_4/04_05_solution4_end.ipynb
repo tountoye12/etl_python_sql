{
 "cells": [
  {
   "cell_type": "code",
   "execution_count": 2,
   "metadata": {},
   "outputs": [],
   "source": [
    "import pandas as pd"
   ]
  },
  {
   "cell_type": "code",
   "execution_count": 3,
   "metadata": {},
   "outputs": [],
   "source": [
    "products = pd.read_excel(\"/Users/jennifer/Documents/ETL in Python and SQL/Chapter_4/H+ Sport products.xlsx\")"
   ]
  },
  {
   "cell_type": "code",
   "execution_count": 4,
   "metadata": {},
   "outputs": [
    {
     "data": {
      "text/html": [
       "<div>\n",
       "<style scoped>\n",
       "    .dataframe tbody tr th:only-of-type {\n",
       "        vertical-align: middle;\n",
       "    }\n",
       "\n",
       "    .dataframe tbody tr th {\n",
       "        vertical-align: top;\n",
       "    }\n",
       "\n",
       "    .dataframe thead th {\n",
       "        text-align: right;\n",
       "    }\n",
       "</style>\n",
       "<table border=\"1\" class=\"dataframe\">\n",
       "  <thead>\n",
       "    <tr style=\"text-align: right;\">\n",
       "      <th></th>\n",
       "      <th>Product ID</th>\n",
       "      <th>Product category</th>\n",
       "      <th>Item</th>\n",
       "      <th>Price</th>\n",
       "    </tr>\n",
       "  </thead>\n",
       "  <tbody>\n",
       "    <tr>\n",
       "      <th>0</th>\n",
       "      <td>FT422</td>\n",
       "      <td>Fitness</td>\n",
       "      <td>Battle rope - 1.5 inch</td>\n",
       "      <td>90.55</td>\n",
       "    </tr>\n",
       "    <tr>\n",
       "      <th>1</th>\n",
       "      <td>FT871</td>\n",
       "      <td>Fitness</td>\n",
       "      <td>Battle rope - 2 inch</td>\n",
       "      <td>120.25</td>\n",
       "    </tr>\n",
       "    <tr>\n",
       "      <th>2</th>\n",
       "      <td>FT976</td>\n",
       "      <td>Fitness</td>\n",
       "      <td>Insulated water bottle - 24oz - Green</td>\n",
       "      <td>19.99</td>\n",
       "    </tr>\n",
       "    <tr>\n",
       "      <th>3</th>\n",
       "      <td>FT434</td>\n",
       "      <td>Fitness</td>\n",
       "      <td>Insulated water bottle - 24oz - Grey</td>\n",
       "      <td>19.99</td>\n",
       "    </tr>\n",
       "    <tr>\n",
       "      <th>4</th>\n",
       "      <td>FT172</td>\n",
       "      <td>Fitness</td>\n",
       "      <td>Insulated water bottle - 24oz - Pink</td>\n",
       "      <td>19.99</td>\n",
       "    </tr>\n",
       "  </tbody>\n",
       "</table>\n",
       "</div>"
      ],
      "text/plain": [
       "  Product ID Product category                                   Item   Price\n",
       "0      FT422          Fitness                 Battle rope - 1.5 inch   90.55\n",
       "1      FT871          Fitness                   Battle rope - 2 inch  120.25\n",
       "2      FT976          Fitness  Insulated water bottle - 24oz - Green   19.99\n",
       "3      FT434          Fitness   Insulated water bottle - 24oz - Grey   19.99\n",
       "4      FT172          Fitness   Insulated water bottle - 24oz - Pink   19.99"
      ]
     },
     "execution_count": 4,
     "metadata": {},
     "output_type": "execute_result"
    }
   ],
   "source": [
    "products.head()"
   ]
  },
  {
   "cell_type": "code",
   "execution_count": 5,
   "metadata": {},
   "outputs": [],
   "source": [
    "products[\"Price\"] =  products[\"Price\"]/0.92"
   ]
  },
  {
   "cell_type": "code",
   "execution_count": 6,
   "metadata": {},
   "outputs": [
    {
     "data": {
      "text/html": [
       "<div>\n",
       "<style scoped>\n",
       "    .dataframe tbody tr th:only-of-type {\n",
       "        vertical-align: middle;\n",
       "    }\n",
       "\n",
       "    .dataframe tbody tr th {\n",
       "        vertical-align: top;\n",
       "    }\n",
       "\n",
       "    .dataframe thead th {\n",
       "        text-align: right;\n",
       "    }\n",
       "</style>\n",
       "<table border=\"1\" class=\"dataframe\">\n",
       "  <thead>\n",
       "    <tr style=\"text-align: right;\">\n",
       "      <th></th>\n",
       "      <th>Product ID</th>\n",
       "      <th>Product category</th>\n",
       "      <th>Item</th>\n",
       "      <th>Price</th>\n",
       "    </tr>\n",
       "  </thead>\n",
       "  <tbody>\n",
       "    <tr>\n",
       "      <th>0</th>\n",
       "      <td>FT422</td>\n",
       "      <td>Fitness</td>\n",
       "      <td>Battle rope - 1.5 inch</td>\n",
       "      <td>98.423913</td>\n",
       "    </tr>\n",
       "    <tr>\n",
       "      <th>1</th>\n",
       "      <td>FT871</td>\n",
       "      <td>Fitness</td>\n",
       "      <td>Battle rope - 2 inch</td>\n",
       "      <td>130.706522</td>\n",
       "    </tr>\n",
       "    <tr>\n",
       "      <th>2</th>\n",
       "      <td>FT976</td>\n",
       "      <td>Fitness</td>\n",
       "      <td>Insulated water bottle - 24oz - Green</td>\n",
       "      <td>21.728261</td>\n",
       "    </tr>\n",
       "    <tr>\n",
       "      <th>3</th>\n",
       "      <td>FT434</td>\n",
       "      <td>Fitness</td>\n",
       "      <td>Insulated water bottle - 24oz - Grey</td>\n",
       "      <td>21.728261</td>\n",
       "    </tr>\n",
       "    <tr>\n",
       "      <th>4</th>\n",
       "      <td>FT172</td>\n",
       "      <td>Fitness</td>\n",
       "      <td>Insulated water bottle - 24oz - Pink</td>\n",
       "      <td>21.728261</td>\n",
       "    </tr>\n",
       "  </tbody>\n",
       "</table>\n",
       "</div>"
      ],
      "text/plain": [
       "  Product ID Product category                                   Item  \\\n",
       "0      FT422          Fitness                 Battle rope - 1.5 inch   \n",
       "1      FT871          Fitness                   Battle rope - 2 inch   \n",
       "2      FT976          Fitness  Insulated water bottle - 24oz - Green   \n",
       "3      FT434          Fitness   Insulated water bottle - 24oz - Grey   \n",
       "4      FT172          Fitness   Insulated water bottle - 24oz - Pink   \n",
       "\n",
       "        Price  \n",
       "0   98.423913  \n",
       "1  130.706522  \n",
       "2   21.728261  \n",
       "3   21.728261  \n",
       "4   21.728261  "
      ]
     },
     "execution_count": 6,
     "metadata": {},
     "output_type": "execute_result"
    }
   ],
   "source": [
    "products.head()"
   ]
  }
 ],
 "metadata": {
  "kernelspec": {
   "display_name": "Python 3",
   "language": "python",
   "name": "python3"
  },
  "language_info": {
   "codemirror_mode": {
    "name": "ipython",
    "version": 3
   },
   "file_extension": ".py",
   "mimetype": "text/x-python",
   "name": "python",
   "nbconvert_exporter": "python",
   "pygments_lexer": "ipython3",
   "version": "3.9.17"
  }
 },
 "nbformat": 4,
 "nbformat_minor": 2
}
